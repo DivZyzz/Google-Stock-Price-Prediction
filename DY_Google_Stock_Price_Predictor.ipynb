{
  "nbformat": 4,
  "nbformat_minor": 0,
  "metadata": {
    "colab": {
      "provenance": []
    },
    "kernelspec": {
      "name": "python3",
      "display_name": "Python 3"
    },
    "language_info": {
      "name": "python"
    }
  },
  "cells": [
    {
      "cell_type": "code",
      "execution_count": null,
      "metadata": {
        "colab": {
          "base_uri": "https://localhost:8080/"
        },
        "id": "kSHwUOzwG7-7",
        "outputId": "4224bb88-23c0-45cb-857c-edeeb58f14d2"
      },
      "outputs": [
        {
          "output_type": "stream",
          "name": "stdout",
          "text": [
            "Mounted at /content/drive\n"
          ]
        }
      ],
      "source": [
        "from google.colab import drive\n",
        "drive.mount('/content/drive')"
      ]
    },
    {
      "cell_type": "code",
      "source": [
        "import pandas as pd\n",
        "datat = pd.read_csv(\"/content/drive/MyDrive/DYgoogle/Trainset.csv\")"
      ],
      "metadata": {
        "id": "JpBDYlQkHee5"
      },
      "execution_count": null,
      "outputs": []
    },
    {
      "cell_type": "code",
      "source": [
        "import numpy as np\n",
        "import pandas as pd\n",
        "from sklearn.preprocessing import MinMaxScaler\n",
        "import matplotlib.pyplot as plt\n",
        "\n",
        "from keras.models import Sequential\n",
        "from keras.layers import Dense\n",
        "from keras.layers import LSTM\n",
        "from keras.layers import Dropout\n",
        "import tensorflow as tf\n"
      ],
      "metadata": {
        "id": "BIMXLeRBKmYK"
      },
      "execution_count": null,
      "outputs": []
    },
    {
      "cell_type": "code",
      "source": [
        "training_set = datat.iloc[:, 1:2].values\n",
        "print(datat)\n",
        "print(training_set)\n"
      ],
      "metadata": {
        "colab": {
          "base_uri": "https://localhost:8080/"
        },
        "id": "ueDlbHr2Kweb",
        "outputId": "a814fef0-d3fd-46b3-bb9a-1908e7ca4d69"
      },
      "execution_count": null,
      "outputs": [
        {
          "output_type": "stream",
          "name": "stdout",
          "text": [
            "          Date         Open         High          Low        Close  \\\n",
            "0       1/4/16   743.000000   744.059998   731.257996   741.840027   \n",
            "1       1/5/16   746.450012   752.000000   738.640015   742.580017   \n",
            "2       1/6/16   730.000000   747.179993   728.919983   743.619995   \n",
            "3       1/7/16   730.309998   738.500000   719.059998   726.390015   \n",
            "4       1/8/16   731.450012   733.229980   713.000000   714.469971   \n",
            "...        ...          ...          ...          ...          ...   \n",
            "1254  12/24/20  1735.000000  1746.000000  1729.109985  1738.849976   \n",
            "1255  12/28/20  1751.635010  1790.728027  1746.334961  1776.089966   \n",
            "1256  12/29/20  1787.790039  1792.439941  1756.089966  1758.719971   \n",
            "1257  12/30/20  1762.010010  1765.094971  1725.599976  1739.520020   \n",
            "1258  12/31/20  1735.420044  1758.930054  1735.420044  1751.880005   \n",
            "\n",
            "        Adj Close   Volume  \n",
            "0      741.840027  3272800  \n",
            "1      742.580017  1950700  \n",
            "2      743.619995  1947000  \n",
            "3      726.390015  2963700  \n",
            "4      714.469971  2450900  \n",
            "...           ...      ...  \n",
            "1254  1738.849976   346800  \n",
            "1255  1776.089966  1393000  \n",
            "1256  1758.719971  1299400  \n",
            "1257  1739.520020  1306100  \n",
            "1258  1751.880005  1011900  \n",
            "\n",
            "[1259 rows x 7 columns]\n",
            "[[ 743.      ]\n",
            " [ 746.450012]\n",
            " [ 730.      ]\n",
            " ...\n",
            " [1787.790039]\n",
            " [1762.01001 ]\n",
            " [1735.420044]]\n"
          ]
        }
      ]
    },
    {
      "cell_type": "code",
      "source": [
        "# Create a MinMaxScaler object to scale the data within the range (0, 1)\n",
        "scaler = MinMaxScaler(feature_range=(0, 1))\n",
        "\n",
        "# Apply the Min-Max scaling to the 'training_set'\n",
        "training_set_scaled = scaler.fit_transform(training_set)\n"
      ],
      "metadata": {
        "id": "jcaHMvSpMPiS"
      },
      "execution_count": null,
      "outputs": []
    },
    {
      "cell_type": "code",
      "source": [
        "# creating a data structure with 60 timesteps and 1 output\n",
        "X_train = []  # List to store training sequences with 60 timesteps\n",
        "y_train = []  # List to store target values for each sequence\n",
        "\n",
        "# Number of timesteps (time window) used for prediction\n",
        "timesteps = 60\n",
        "\n",
        "# Loop through the training data to create sequences and corresponding targets\n",
        "for i in range(timesteps, training_set_scaled.size):\n",
        "    # Create a sequence of the last 60 stock prices as input\n",
        "    sequence = training_set_scaled[i - timesteps:i, 0]\n",
        "    X_train.append(sequence)\n",
        "\n",
        "    # Store the stock price of the current day (60th day) as the target value\n",
        "    target = training_set_scaled[i, 0]\n",
        "    y_train.append(target)\n"
      ],
      "metadata": {
        "id": "_GWbM7lnM6KL"
      },
      "execution_count": null,
      "outputs": []
    },
    {
      "cell_type": "code",
      "source": [
        "# Convert the pandas lists to numpy arrays required for the RNN\n",
        "X_train_np, y_train_np = np.array(X_train), np.array(y_train)\n",
        "\n",
        "# Print the transformed numpy arrays\n",
        "print(\"X_train_np:\")\n",
        "print(X_train_np)\n",
        "print(\"y_train_np:\")\n",
        "print(y_train_np)\n"
      ],
      "metadata": {
        "colab": {
          "base_uri": "https://localhost:8080/"
        },
        "id": "pC672uoKNbAy",
        "outputId": "a808989e-72eb-417a-c255-ed58721537d2"
      },
      "execution_count": null,
      "outputs": [
        {
          "output_type": "stream",
          "name": "stdout",
          "text": [
            "X_train_np:\n",
            "[[0.06497101 0.06795372 0.05373185 ... 0.05960213 0.05770016 0.0711093 ]\n",
            " [0.06795372 0.05373185 0.05399986 ... 0.05770016 0.0711093  0.07037446]\n",
            " [0.05373185 0.05399986 0.05498546 ... 0.0711093  0.07037446 0.06116697]\n",
            " ...\n",
            " [0.68660899 0.69022276 0.69832359 ... 0.91664863 0.9226054  0.93698721]\n",
            " [0.69022276 0.69832359 0.68856289 ... 0.9226054  0.93698721 0.96824507]\n",
            " [0.69832359 0.68856289 0.68925446 ... 0.93698721 0.96824507 0.94595692]]\n",
            "y_train_np:\n",
            "[0.07037446 0.06116697 0.07107474 ... 0.96824507 0.94595692 0.92296855]\n"
          ]
        }
      ]
    },
    {
      "cell_type": "code",
      "source": [
        "# Reshaping/adding new dimensions to allow adding more indicators: from 2D to 3D\n",
        "# The input arguments are:\n",
        "# batch_size: number of observations (sequences)\n",
        "# timesteps: number of columns (time steps)\n",
        "# input_dim: number of predictors (features)\n",
        "# Convert X_train from list to numpy array\n",
        "X_train_np = np.array(X_train)\n",
        "\n",
        "# Reshape X_train to add a new dimension (3D) to it\n",
        "# The new shape will be [number_of_sequences, time_steps, input_dim]\n",
        "X_train_3d = np.reshape(X_train_np, [X_train_np.shape[0], X_train_np.shape[1], 1])\n",
        "\n",
        "# Print the reshaped X_train with the new 3D shape\n",
        "print(\"X_train_3d:\")\n",
        "print(X_train_3d)\n"
      ],
      "metadata": {
        "colab": {
          "base_uri": "https://localhost:8080/"
        },
        "id": "1dfMOSYSNokz",
        "outputId": "7f02a521-d9a1-4c4b-e03c-b95ddfb8862a"
      },
      "execution_count": null,
      "outputs": [
        {
          "output_type": "stream",
          "name": "stdout",
          "text": [
            "X_train_3d:\n",
            "[[[0.06497101]\n",
            "  [0.06795372]\n",
            "  [0.05373185]\n",
            "  ...\n",
            "  [0.05960213]\n",
            "  [0.05770016]\n",
            "  [0.0711093 ]]\n",
            "\n",
            " [[0.06795372]\n",
            "  [0.05373185]\n",
            "  [0.05399986]\n",
            "  ...\n",
            "  [0.05770016]\n",
            "  [0.0711093 ]\n",
            "  [0.07037446]]\n",
            "\n",
            " [[0.05373185]\n",
            "  [0.05399986]\n",
            "  [0.05498546]\n",
            "  ...\n",
            "  [0.0711093 ]\n",
            "  [0.07037446]\n",
            "  [0.06116697]]\n",
            "\n",
            " ...\n",
            "\n",
            " [[0.68660899]\n",
            "  [0.69022276]\n",
            "  [0.69832359]\n",
            "  ...\n",
            "  [0.91664863]\n",
            "  [0.9226054 ]\n",
            "  [0.93698721]]\n",
            "\n",
            " [[0.69022276]\n",
            "  [0.69832359]\n",
            "  [0.68856289]\n",
            "  ...\n",
            "  [0.9226054 ]\n",
            "  [0.93698721]\n",
            "  [0.96824507]]\n",
            "\n",
            " [[0.69832359]\n",
            "  [0.68856289]\n",
            "  [0.68925446]\n",
            "  ...\n",
            "  [0.93698721]\n",
            "  [0.96824507]\n",
            "  [0.94595692]]]\n"
          ]
        }
      ]
    },
    {
      "cell_type": "code",
      "source": [
        "# Convert X_train from list to numpy array\n",
        "X_train_np = np.array(X_train)\n",
        "\n",
        "# Building the RNN/LSTM model\n",
        "# Initializing the RNN\n",
        "# The independent variable is a sequence of layers for regression, as no classification is given with continuous output values\n",
        "regressor = Sequential()\n",
        "\n",
        "# Adding the first LSTM layer\n",
        "# Units: Number of memory/LSTM units or neurons in each LSTM layer\n",
        "# return_sequences: True, as there will be further layers of LSTM added to the model\n",
        "# input_shape: The input shape (automatically takes the first dimension, so only the remaining shape needs to be specified)\n",
        "regressor.add(LSTM(units=50, return_sequences=True, input_shape=(X_train_np.shape[1], 1)))\n",
        "\n",
        "# Adding Dropout regularization layer\n",
        "# Rate: The proportion of neurons to ignore in the layer during training (dropout rate)\n",
        "regressor.add(Dropout(0.2))\n"
      ],
      "metadata": {
        "id": "l-P5tfrnN-k4"
      },
      "execution_count": null,
      "outputs": []
    },
    {
      "cell_type": "code",
      "source": [
        "# Adding the second LSTM layer\n",
        "# No input shape is needed since it is specified in the previous layer\n",
        "regressor.add(LSTM(units=50, return_sequences=True))\n",
        "regressor.add(Dropout(0.2))\n"
      ],
      "metadata": {
        "id": "Amy5yVheOog2"
      },
      "execution_count": null,
      "outputs": []
    },
    {
      "cell_type": "code",
      "source": [
        "# Adding the third LSTM layer\n",
        "regressor.add(LSTM(units = 50, return_sequences=True))\n",
        "regressor.add(Dropout(0.2))"
      ],
      "metadata": {
        "id": "njl8clvcPIom"
      },
      "execution_count": null,
      "outputs": []
    },
    {
      "cell_type": "code",
      "source": [
        "# Adding the forth LSTM layer\n",
        "regressor.add(LSTM(units = 50, return_sequences=True))\n",
        "regressor.add(Dropout(0.2))"
      ],
      "metadata": {
        "id": "1bwRudeGPYBk"
      },
      "execution_count": null,
      "outputs": []
    },
    {
      "cell_type": "code",
      "source": [
        "# Adding the fifth LSTM layer\n",
        "# note that this is the final LSTM layer, hence we change the binary argument to False\n",
        "regressor.add(LSTM(units = 50))\n",
        "regressor.add(Dropout(0.2))"
      ],
      "metadata": {
        "id": "SNngcMlZPqjZ"
      },
      "execution_count": null,
      "outputs": []
    },
    {
      "cell_type": "code",
      "source": [
        "# Adding output layer to the RNN to make a fully connected NN\n",
        "# one dimensional real output\n",
        "regressor.add(Dense(units = 1))"
      ],
      "metadata": {
        "id": "DEB3Miy0Pvuy"
      },
      "execution_count": null,
      "outputs": []
    },
    {
      "cell_type": "code",
      "source": [
        "### Compiling the RNN model\n",
        "regressor.compile(optimizer = 'adam', loss = 'mean_squared_error')\n"
      ],
      "metadata": {
        "id": "NtKOsoeNQBkZ"
      },
      "execution_count": null,
      "outputs": []
    },
    {
      "cell_type": "code",
      "source": [
        "# Training the RNN model\n",
        "# Connecting the built regressor to the training model\n",
        "regressor.fit(X_train_np, y_train_np, epochs=120, batch_size=32)"
      ],
      "metadata": {
        "colab": {
          "base_uri": "https://localhost:8080/"
        },
        "id": "mRiZxkzMQhv1",
        "outputId": "9bd32749-ca0c-415d-fb74-d752a274bafc"
      },
      "execution_count": null,
      "outputs": [
        {
          "output_type": "stream",
          "name": "stdout",
          "text": [
            "Epoch 1/120\n",
            "38/38 [==============================] - 26s 293ms/step - loss: 0.0454\n",
            "Epoch 2/120\n",
            "38/38 [==============================] - 10s 270ms/step - loss: 0.0071\n",
            "Epoch 3/120\n",
            "38/38 [==============================] - 8s 214ms/step - loss: 0.0064\n",
            "Epoch 4/120\n",
            "38/38 [==============================] - 10s 263ms/step - loss: 0.0058\n",
            "Epoch 5/120\n",
            "38/38 [==============================] - 9s 236ms/step - loss: 0.0052\n",
            "Epoch 6/120\n",
            "38/38 [==============================] - 9s 238ms/step - loss: 0.0054\n",
            "Epoch 7/120\n",
            "38/38 [==============================] - 10s 258ms/step - loss: 0.0050\n",
            "Epoch 8/120\n",
            "38/38 [==============================] - 8s 211ms/step - loss: 0.0048\n",
            "Epoch 9/120\n",
            "38/38 [==============================] - 10s 263ms/step - loss: 0.0038\n",
            "Epoch 10/120\n",
            "38/38 [==============================] - 10s 264ms/step - loss: 0.0040\n",
            "Epoch 11/120\n",
            "38/38 [==============================] - 8s 212ms/step - loss: 0.0038\n",
            "Epoch 12/120\n",
            "38/38 [==============================] - 10s 263ms/step - loss: 0.0037\n",
            "Epoch 13/120\n",
            "38/38 [==============================] - 9s 250ms/step - loss: 0.0040\n",
            "Epoch 14/120\n",
            "38/38 [==============================] - 9s 224ms/step - loss: 0.0041\n",
            "Epoch 15/120\n",
            "38/38 [==============================] - 10s 262ms/step - loss: 0.0031\n",
            "Epoch 16/120\n",
            "38/38 [==============================] - 8s 215ms/step - loss: 0.0032\n",
            "Epoch 17/120\n",
            "38/38 [==============================] - 10s 255ms/step - loss: 0.0034\n",
            "Epoch 18/120\n",
            "38/38 [==============================] - 10s 261ms/step - loss: 0.0033\n",
            "Epoch 19/120\n",
            "38/38 [==============================] - 8s 217ms/step - loss: 0.0028\n",
            "Epoch 20/120\n",
            "38/38 [==============================] - 10s 265ms/step - loss: 0.0029\n",
            "Epoch 21/120\n",
            "38/38 [==============================] - 10s 257ms/step - loss: 0.0033\n",
            "Epoch 22/120\n",
            "38/38 [==============================] - 8s 212ms/step - loss: 0.0026\n",
            "Epoch 23/120\n",
            "38/38 [==============================] - 10s 265ms/step - loss: 0.0031\n",
            "Epoch 24/120\n",
            "38/38 [==============================] - 9s 241ms/step - loss: 0.0025\n",
            "Epoch 25/120\n",
            "38/38 [==============================] - 9s 236ms/step - loss: 0.0027\n",
            "Epoch 26/120\n",
            "38/38 [==============================] - 10s 265ms/step - loss: 0.0023\n",
            "Epoch 27/120\n",
            "38/38 [==============================] - 8s 217ms/step - loss: 0.0021\n",
            "Epoch 28/120\n",
            "38/38 [==============================] - 10s 257ms/step - loss: 0.0024\n",
            "Epoch 29/120\n",
            "38/38 [==============================] - 10s 262ms/step - loss: 0.0024\n",
            "Epoch 30/120\n",
            "38/38 [==============================] - 8s 216ms/step - loss: 0.0024\n",
            "Epoch 31/120\n",
            "38/38 [==============================] - 10s 266ms/step - loss: 0.0025\n",
            "Epoch 32/120\n",
            "38/38 [==============================] - 10s 263ms/step - loss: 0.0028\n",
            "Epoch 33/120\n",
            "38/38 [==============================] - 8s 212ms/step - loss: 0.0023\n",
            "Epoch 34/120\n",
            "38/38 [==============================] - 10s 264ms/step - loss: 0.0019\n",
            "Epoch 35/120\n",
            "38/38 [==============================] - 9s 239ms/step - loss: 0.0020\n",
            "Epoch 36/120\n",
            "38/38 [==============================] - 9s 236ms/step - loss: 0.0021\n",
            "Epoch 37/120\n",
            "38/38 [==============================] - 10s 261ms/step - loss: 0.0022\n",
            "Epoch 38/120\n",
            "38/38 [==============================] - 8s 210ms/step - loss: 0.0021\n",
            "Epoch 39/120\n",
            "38/38 [==============================] - 10s 261ms/step - loss: 0.0018\n",
            "Epoch 40/120\n",
            "38/38 [==============================] - 10s 261ms/step - loss: 0.0018\n",
            "Epoch 41/120\n",
            "38/38 [==============================] - 8s 211ms/step - loss: 0.0018\n",
            "Epoch 42/120\n",
            "38/38 [==============================] - 10s 267ms/step - loss: 0.0021\n",
            "Epoch 43/120\n",
            "38/38 [==============================] - 9s 240ms/step - loss: 0.0018\n",
            "Epoch 44/120\n",
            "38/38 [==============================] - 9s 227ms/step - loss: 0.0019\n",
            "Epoch 45/120\n",
            "38/38 [==============================] - 10s 267ms/step - loss: 0.0019\n",
            "Epoch 46/120\n",
            "38/38 [==============================] - 8s 220ms/step - loss: 0.0017\n",
            "Epoch 47/120\n",
            "38/38 [==============================] - 10s 258ms/step - loss: 0.0017\n",
            "Epoch 48/120\n",
            "38/38 [==============================] - 10s 266ms/step - loss: 0.0020\n",
            "Epoch 49/120\n",
            "38/38 [==============================] - 8s 209ms/step - loss: 0.0022\n",
            "Epoch 50/120\n",
            "38/38 [==============================] - 10s 263ms/step - loss: 0.0017\n",
            "Epoch 51/120\n",
            "38/38 [==============================] - 10s 269ms/step - loss: 0.0017\n",
            "Epoch 52/120\n",
            "38/38 [==============================] - 8s 205ms/step - loss: 0.0017\n",
            "Epoch 53/120\n",
            "38/38 [==============================] - 10s 263ms/step - loss: 0.0017\n",
            "Epoch 54/120\n",
            "38/38 [==============================] - 8s 224ms/step - loss: 0.0017\n",
            "Epoch 55/120\n",
            "38/38 [==============================] - 9s 241ms/step - loss: 0.0016\n",
            "Epoch 56/120\n",
            "38/38 [==============================] - 10s 272ms/step - loss: 0.0017\n",
            "Epoch 57/120\n",
            "38/38 [==============================] - 8s 208ms/step - loss: 0.0017\n",
            "Epoch 58/120\n",
            "38/38 [==============================] - 10s 261ms/step - loss: 0.0016\n",
            "Epoch 59/120\n",
            "38/38 [==============================] - 10s 265ms/step - loss: 0.0018\n",
            "Epoch 60/120\n",
            "38/38 [==============================] - 8s 210ms/step - loss: 0.0016\n",
            "Epoch 61/120\n",
            "38/38 [==============================] - 10s 267ms/step - loss: 0.0016\n",
            "Epoch 62/120\n",
            "38/38 [==============================] - 9s 249ms/step - loss: 0.0016\n",
            "Epoch 63/120\n",
            "38/38 [==============================] - 9s 225ms/step - loss: 0.0015\n",
            "Epoch 64/120\n",
            "38/38 [==============================] - 10s 263ms/step - loss: 0.0017\n",
            "Epoch 65/120\n",
            "38/38 [==============================] - 9s 227ms/step - loss: 0.0015\n",
            "Epoch 66/120\n",
            "38/38 [==============================] - 9s 243ms/step - loss: 0.0015\n",
            "Epoch 67/120\n",
            "38/38 [==============================] - 10s 263ms/step - loss: 0.0014\n",
            "Epoch 68/120\n",
            "38/38 [==============================] - 8s 214ms/step - loss: 0.0015\n",
            "Epoch 69/120\n",
            "38/38 [==============================] - 10s 265ms/step - loss: 0.0012\n",
            "Epoch 70/120\n",
            "38/38 [==============================] - 10s 266ms/step - loss: 0.0013\n",
            "Epoch 71/120\n",
            "38/38 [==============================] - 8s 209ms/step - loss: 0.0013\n",
            "Epoch 72/120\n",
            "38/38 [==============================] - 10s 259ms/step - loss: 0.0015\n",
            "Epoch 73/120\n",
            "38/38 [==============================] - 9s 241ms/step - loss: 0.0014\n",
            "Epoch 74/120\n",
            "38/38 [==============================] - 9s 233ms/step - loss: 0.0017\n",
            "Epoch 75/120\n",
            "38/38 [==============================] - 10s 265ms/step - loss: 0.0012\n",
            "Epoch 76/120\n",
            "38/38 [==============================] - 8s 208ms/step - loss: 0.0012\n",
            "Epoch 77/120\n",
            "38/38 [==============================] - 10s 261ms/step - loss: 0.0014\n",
            "Epoch 78/120\n",
            "38/38 [==============================] - 10s 263ms/step - loss: 0.0015\n",
            "Epoch 79/120\n",
            "38/38 [==============================] - 8s 207ms/step - loss: 0.0014\n",
            "Epoch 80/120\n",
            "38/38 [==============================] - 10s 265ms/step - loss: 0.0013\n",
            "Epoch 81/120\n",
            "38/38 [==============================] - 9s 246ms/step - loss: 0.0012\n",
            "Epoch 82/120\n",
            "38/38 [==============================] - 9s 226ms/step - loss: 0.0012\n",
            "Epoch 83/120\n",
            "38/38 [==============================] - 10s 266ms/step - loss: 0.0013\n",
            "Epoch 84/120\n",
            "38/38 [==============================] - 8s 221ms/step - loss: 0.0012\n",
            "Epoch 85/120\n",
            "38/38 [==============================] - 10s 251ms/step - loss: 0.0012\n",
            "Epoch 86/120\n",
            "38/38 [==============================] - 10s 268ms/step - loss: 0.0012\n",
            "Epoch 87/120\n",
            "38/38 [==============================] - 8s 218ms/step - loss: 0.0014\n",
            "Epoch 88/120\n",
            "38/38 [==============================] - 10s 260ms/step - loss: 0.0012\n",
            "Epoch 89/120\n",
            "38/38 [==============================] - 10s 266ms/step - loss: 0.0012\n",
            "Epoch 90/120\n",
            "38/38 [==============================] - 8s 212ms/step - loss: 0.0012\n",
            "Epoch 91/120\n",
            "38/38 [==============================] - 10s 266ms/step - loss: 0.0013\n",
            "Epoch 92/120\n",
            "38/38 [==============================] - 10s 251ms/step - loss: 0.0011\n",
            "Epoch 93/120\n",
            "38/38 [==============================] - 9s 221ms/step - loss: 0.0012\n",
            "Epoch 94/120\n",
            "38/38 [==============================] - 10s 262ms/step - loss: 0.0010\n",
            "Epoch 95/120\n",
            "38/38 [==============================] - 9s 228ms/step - loss: 0.0011\n",
            "Epoch 96/120\n",
            "38/38 [==============================] - 10s 248ms/step - loss: 0.0012\n",
            "Epoch 97/120\n",
            "38/38 [==============================] - 10s 265ms/step - loss: 0.0011\n",
            "Epoch 98/120\n",
            "38/38 [==============================] - 8s 212ms/step - loss: 0.0014\n",
            "Epoch 99/120\n",
            "38/38 [==============================] - 10s 257ms/step - loss: 0.0012\n",
            "Epoch 100/120\n",
            "38/38 [==============================] - 10s 259ms/step - loss: 0.0011\n",
            "Epoch 101/120\n",
            "38/38 [==============================] - 8s 209ms/step - loss: 0.0013\n",
            "Epoch 102/120\n",
            "38/38 [==============================] - 10s 263ms/step - loss: 0.0012\n",
            "Epoch 103/120\n",
            "38/38 [==============================] - 9s 234ms/step - loss: 0.0011\n",
            "Epoch 104/120\n",
            "38/38 [==============================] - 9s 232ms/step - loss: 0.0012\n",
            "Epoch 105/120\n",
            "38/38 [==============================] - 10s 264ms/step - loss: 0.0010\n",
            "Epoch 106/120\n",
            "38/38 [==============================] - 8s 210ms/step - loss: 0.0010\n",
            "Epoch 107/120\n",
            "38/38 [==============================] - 10s 264ms/step - loss: 0.0011\n",
            "Epoch 108/120\n",
            "38/38 [==============================] - 10s 263ms/step - loss: 0.0011\n",
            "Epoch 109/120\n",
            "38/38 [==============================] - 8s 209ms/step - loss: 0.0012\n",
            "Epoch 110/120\n",
            "38/38 [==============================] - 10s 264ms/step - loss: 0.0011\n",
            "Epoch 111/120\n",
            "38/38 [==============================] - 9s 240ms/step - loss: 0.0012\n",
            "Epoch 112/120\n",
            "38/38 [==============================] - 9s 229ms/step - loss: 0.0011\n",
            "Epoch 113/120\n",
            "38/38 [==============================] - 10s 267ms/step - loss: 9.8363e-04\n",
            "Epoch 114/120\n",
            "38/38 [==============================] - 8s 222ms/step - loss: 9.9456e-04\n",
            "Epoch 115/120\n",
            "38/38 [==============================] - 10s 253ms/step - loss: 9.9750e-04\n",
            "Epoch 116/120\n",
            "38/38 [==============================] - 10s 267ms/step - loss: 0.0010\n",
            "Epoch 117/120\n",
            "38/38 [==============================] - 8s 212ms/step - loss: 0.0011\n",
            "Epoch 118/120\n",
            "38/38 [==============================] - 10s 267ms/step - loss: 0.0011\n",
            "Epoch 119/120\n",
            "38/38 [==============================] - 10s 260ms/step - loss: 0.0011\n",
            "Epoch 120/120\n",
            "38/38 [==============================] - 8s 214ms/step - loss: 0.0011\n"
          ]
        },
        {
          "output_type": "execute_result",
          "data": {
            "text/plain": [
              "<keras.callbacks.History at 0x784b123df8e0>"
            ]
          },
          "metadata": {},
          "execution_count": 36
        }
      ]
    },
    {
      "cell_type": "code",
      "source": [
        "### Testing RNN model\n",
        "datatest = pd.read_csv(\"/content/drive/MyDrive/DYgoogle/Testset.csv\")"
      ],
      "metadata": {
        "id": "4ZNIFwioQq2f"
      },
      "execution_count": null,
      "outputs": []
    },
    {
      "cell_type": "code",
      "source": [
        "# actual stock prices\n",
        "real_stock_price = datatest.iloc[:,1:2].values\n",
        "# predicting the stock prices using X_test\n",
        "# we need the original training data (vertical concatination 0, horizontal 1)\n",
        "dataset_total = pd.concat((datat['Open'], datatest['Open']), axis = 0)\n",
        "print(real_stock_price)\n"
      ],
      "metadata": {
        "colab": {
          "base_uri": "https://localhost:8080/"
        },
        "id": "J13lrk6WV0pC",
        "outputId": "c73815fc-df2a-4a88-b9f8-d6d218b0c437"
      },
      "execution_count": null,
      "outputs": [
        {
          "output_type": "stream",
          "name": "stdout",
          "text": [
            "[[1757.540039]\n",
            " [1725.      ]\n",
            " [1702.630005]\n",
            " [1740.060059]\n",
            " [1787.97998 ]\n",
            " [1786.069946]\n",
            " [1753.920044]\n",
            " [1738.579956]\n",
            " [1753.619995]\n",
            " [1738.189941]\n",
            " [1752.25    ]\n",
            " [1831.459961]\n",
            " [1898.      ]\n",
            " [1895.680054]\n",
            " [1920.670044]\n",
            " [1888.839966]\n",
            " [1882.530029]\n",
            " [1843.939941]\n",
            " [1846.170044]\n",
            " [1853.569946]]\n"
          ]
        }
      ]
    },
    {
      "cell_type": "code",
      "source": [
        "# Feature scaling for the consistency of the model\n",
        "print(\"First Financial day in 2021, when testing period begins\",len(dataset_total)- len(datatest))\n",
        "print(\"First Financial day in 2021 minus 60 days\",len(dataset_total)- len(datatest) - 60)\n",
        "inputs = dataset_total[len(dataset_total) - len(datatest) - 60:].values\n"
      ],
      "metadata": {
        "colab": {
          "base_uri": "https://localhost:8080/"
        },
        "id": "-WTiwa02WP1o",
        "outputId": "b762aa10-ac62-42b5-9b78-8a8accf15b47"
      },
      "execution_count": null,
      "outputs": [
        {
          "output_type": "stream",
          "name": "stdout",
          "text": [
            "First Financial day in 2021, when testing period begins 1259\n",
            "First Financial day in 2021 minus 60 days 1199\n"
          ]
        }
      ]
    },
    {
      "cell_type": "code",
      "source": [
        "# Reshaping and normalizing the inputs\n",
        "inputs = inputs.reshape(-1, 1)\n",
        "inputs = sc.transform(inputs)\n",
        "\n",
        "print(\"Inputs shape after reshaping and normalizing:\", inputs.shape)"
      ],
      "metadata": {
        "colab": {
          "base_uri": "https://localhost:8080/"
        },
        "id": "DF67Wb1EWpMI",
        "outputId": "da090480-8fb0-42ac-db93-934ca89e5920"
      },
      "execution_count": null,
      "outputs": [
        {
          "output_type": "stream",
          "name": "stdout",
          "text": [
            "Inputs shape after reshaping and normalizing: (80, 1)\n"
          ]
        }
      ]
    },
    {
      "cell_type": "code",
      "source": [
        "#storing test data as we did in teh training\n",
        "X_test = []\n",
        "for i in range(60,inputs.size):\n",
        "    X_test.append(inputs[i-60:i, 0])\n",
        "X_test = np.array(X_test)\n",
        "# adding extra dimension\n",
        "X_test = np.reshape(X_test, [X_test.shape[0], X_test.shape[1], 1])"
      ],
      "metadata": {
        "id": "05TJrzxzXFXg"
      },
      "execution_count": null,
      "outputs": []
    },
    {
      "cell_type": "code",
      "source": [
        "# obtaining predicted values\n",
        "predicted_stock_price = regressor.predict(X_test)\n",
        "predicted_stock_price = sc.inverse_transform(predicted_stock_price)\n"
      ],
      "metadata": {
        "colab": {
          "base_uri": "https://localhost:8080/"
        },
        "id": "KZWB0U0pXhOe",
        "outputId": "17750dde-fea6-4331-da47-875930b4deb3"
      },
      "execution_count": null,
      "outputs": [
        {
          "output_type": "stream",
          "name": "stdout",
          "text": [
            "1/1 [==============================] - 0s 62ms/step\n"
          ]
        }
      ]
    },
    {
      "cell_type": "code",
      "source": [
        "#Visualizing the RNN model results\n",
        "plt.plot(real_stock_price, color = 'skyblue', label = \"Real Stock Price January 2021\")\n",
        "plt.plot(predicted_stock_price, color = 'red', label = \"Predicted Stock Price January 2021\")\n",
        "plt.title(\"Google Stock Price Prediction\")\n",
        "plt.xlabel(\"Time\")\n",
        "plt.ylabel(\"Google Stock Price\")\n",
        "plt.legend()\n",
        "plt.show()"
      ],
      "metadata": {
        "colab": {
          "base_uri": "https://localhost:8080/",
          "height": 472
        },
        "id": "SD4fvatubKrh",
        "outputId": "76e3754e-d5f9-4ac6-9e55-2e678e5a7c2d"
      },
      "execution_count": null,
      "outputs": [
        {
          "output_type": "display_data",
          "data": {
            "text/plain": [
              "<Figure size 640x480 with 1 Axes>"
            ],
            "image/png": "[encoded data removed]"
          },
          "metadata": {}
        }
      ]
    },
    {
      "cell_type": "code",
      "source": [],
      "metadata": {
        "id": "-MIhYaxWc2GC"
      },
      "execution_count": null,
      "outputs": []
    }
  ]
}